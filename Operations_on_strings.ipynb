{
  "nbformat": 4,
  "nbformat_minor": 0,
  "metadata": {
    "colab": {
      "name": "Untitled",
      "provenance": [],
      "include_colab_link": true
    },
    "kernelspec": {
      "name": "python3",
      "display_name": "Python 3"
    }
  },
  "cells": [
    {
      "cell_type": "markdown",
      "metadata": {
        "id": "view-in-github",
        "colab_type": "text"
      },
      "source": [
        "<a href=\"https://colab.research.google.com/github/Mono33/Caps0/blob/master/Operations_on_strings.ipynb\" target=\"_parent\"><img src=\"https://colab.research.google.com/assets/colab-badge.svg\" alt=\"Open In Colab\"/></a>"
      ]
    },
    {
      "cell_type": "markdown",
      "metadata": {
        "id": "jSazKS5aJckY",
        "colab_type": "text"
      },
      "source": [
        "## Welcome on Google colab !"
      ]
    },
    {
      "cell_type": "code",
      "metadata": {
        "id": "8JLkLIcuHCOv",
        "colab_type": "code",
        "outputId": "15be2d6f-9547-4588-86fa-5c2809be4e82",
        "colab": {
          "base_uri": "https://localhost:8080/",
          "height": 35
        }
      },
      "source": [
        "print(\"hello word\")"
      ],
      "execution_count": 0,
      "outputs": [
        {
          "output_type": "stream",
          "text": [
            "hello word\n"
          ],
          "name": "stdout"
        }
      ]
    },
    {
      "cell_type": "markdown",
      "metadata": {
        "id": "XQoUK5QEJaZ3",
        "colab_type": "text"
      },
      "source": [
        "## operare sulle stringhe\n"
      ]
    },
    {
      "cell_type": "code",
      "metadata": {
        "id": "Ks_ddJwMOpWA",
        "colab_type": "code",
        "outputId": "d615da21-2a3b-40b8-b9aa-e19cb5310543",
        "colab": {
          "base_uri": "https://localhost:8080/",
          "height": 52
        }
      },
      "source": [
        "my_string = \"Questo corso su NLP spacca !!!\"\n",
        "print(my_string)\n",
        "print(type(my_string))"
      ],
      "execution_count": 0,
      "outputs": [
        {
          "output_type": "stream",
          "text": [
            "Questo corso su NLP spacca !!!\n",
            "<class 'str'>\n"
          ],
          "name": "stdout"
        }
      ]
    },
    {
      "cell_type": "code",
      "metadata": {
        "id": "Ue6NgMc-Pae-",
        "colab_type": "code",
        "outputId": "1d421f57-d4e6-4409-ea9d-3a00796b9b26",
        "colab": {
          "base_uri": "https://localhost:8080/",
          "height": 121
        }
      },
      "source": [
        "print(my_string[0])\n",
        "print(my_string[3:5])\n",
        "print(my_string[:-2])\n",
        "print(my_string[:2])\n",
        "print(my_string[2:])\n",
        "print(my_string[7:12])\n",
        "#print(my_string[7:12]) + print(my_string[20:26])"
      ],
      "execution_count": 0,
      "outputs": [
        {
          "output_type": "stream",
          "text": [
            "Q\n",
            "st\n",
            "Questo corso su NLP spacca !\n",
            "Qu\n",
            "esto corso su NLP spacca !!!\n",
            "corso\n"
          ],
          "name": "stdout"
        }
      ]
    },
    {
      "cell_type": "code",
      "metadata": {
        "id": "_Bqj4dR5P_PN",
        "colab_type": "code",
        "outputId": "b6f8415b-9fa8-455d-a57a-c7d4a0ae3b7f",
        "colab": {
          "base_uri": "https://localhost:8080/",
          "height": 87
        }
      },
      "source": [
        "#my_string[0] = \"C\"  # error. str doesn't support object assignment!\n",
        "my_string = \"C\"+ my_string[1:]\n",
        "print(my_string)\n",
        "\n",
        "#lower case\n",
        "print(my_string.lower())\n",
        "#upper case\n",
        "print(my_string.upper())\n",
        "\n",
        "#capitalize\n",
        "print(my_string.capitalize())"
      ],
      "execution_count": 0,
      "outputs": [
        {
          "output_type": "stream",
          "text": [
            "Cuesto corso su NLP spacca !!!\n",
            "cuesto corso su nlp spacca !!!\n",
            "CUESTO CORSO SU NLP SPACCA !!!\n",
            "Cuesto corso su nlp spacca !!!\n"
          ],
          "name": "stdout"
        }
      ]
    },
    {
      "cell_type": "code",
      "metadata": {
        "id": "iokzysOKTGwT",
        "colab_type": "code",
        "outputId": "5758fccb-115a-4338-b29b-7ce90027735c",
        "colab": {
          "base_uri": "https://localhost:8080/",
          "height": 208
        }
      },
      "source": [
        "#redefine the string\n",
        "my_string = \"Oggi è una stupenda giornata per studiare il natural language processing\"\n",
        "words_list = my_string.split()\n",
        "type(words_list)\n",
        "words_list "
      ],
      "execution_count": 0,
      "outputs": [
        {
          "output_type": "execute_result",
          "data": {
            "text/plain": [
              "['Oggi',\n",
              " 'è',\n",
              " 'una',\n",
              " 'stupenda',\n",
              " 'giornata',\n",
              " 'per',\n",
              " 'studiare',\n",
              " 'il',\n",
              " 'natural',\n",
              " 'language',\n",
              " 'processing']"
            ]
          },
          "metadata": {
            "tags": []
          },
          "execution_count": 24
        }
      ]
    },
    {
      "cell_type": "code",
      "metadata": {
        "id": "63cxNEtjWSXL",
        "colab_type": "code",
        "outputId": "c8f19af3-19b4-48d6-d50f-38fa08c6a23c",
        "colab": {
          "base_uri": "https://localhost:8080/",
          "height": 52
        }
      },
      "source": [
        "my_string = \" \".join(words_list)  # add the beginning choosen string between each word of the list \n",
        "print(my_string)\n",
        "\n",
        "my_string = \"SPAZIO\".join(words_list)  # add the beginning choosen string between each word of the list \n",
        "print(my_string)"
      ],
      "execution_count": 0,
      "outputs": [
        {
          "output_type": "stream",
          "text": [
            "Oggi è una stupenda giornata per studiare il natural language processing\n",
            "OggiSPAZIOèSPAZIOunaSPAZIOstupendaSPAZIOgiornataSPAZIOperSPAZIOstudiareSPAZIOilSPAZIOnaturalSPAZIOlanguageSPAZIOprocessing\n"
          ],
          "name": "stdout"
        }
      ]
    },
    {
      "cell_type": "code",
      "metadata": {
        "id": "bnJDHxHwWwiA",
        "colab_type": "code",
        "outputId": "53fb1237-a5cc-4aee-ec90-83848c9e7181",
        "colab": {
          "base_uri": "https://localhost:8080/",
          "height": 69
        }
      },
      "source": [
        "#redefine the string\n",
        "my_string = \"Oggi è una stupenda giornata per studiare il natural language processing. Poi c'è Giuseppe che è davvero bravo. Peccato che è antipatico\"\n",
        "\n",
        "#divide the frase\n",
        "my_string.split(\".\")"
      ],
      "execution_count": 0,
      "outputs": [
        {
          "output_type": "execute_result",
          "data": {
            "text/plain": [
              "['Oggi è una stupenda giornata per studiare il natural language processing',\n",
              " \" Poi c'è Giuseppe che è davvero bravo\",\n",
              " ' Peccato che è antipatico']"
            ]
          },
          "metadata": {
            "tags": []
          },
          "execution_count": 28
        }
      ]
    },
    {
      "cell_type": "code",
      "metadata": {
        "id": "L3Hw9rLCbQA0",
        "colab_type": "code",
        "outputId": "7a536b95-309b-4be2-b104-07338adb5324",
        "colab": {
          "base_uri": "https://localhost:8080/",
          "height": 35
        }
      },
      "source": [
        "my_string.count(\"è\")  # count how many times there's a \"è\""
      ],
      "execution_count": 0,
      "outputs": [
        {
          "output_type": "execute_result",
          "data": {
            "text/plain": [
              "4"
            ]
          },
          "metadata": {
            "tags": []
          },
          "execution_count": 29
        }
      ]
    },
    {
      "cell_type": "code",
      "metadata": {
        "id": "onSsXoI-cG_7",
        "colab_type": "code",
        "outputId": "3e2440be-b18a-41a6-d478-7c1986927657",
        "colab": {
          "base_uri": "https://localhost:8080/",
          "height": 87
        }
      },
      "source": [
        " my_string = my_string.replace(\"Poi\", \"E\") #replace \"Poi\" with \"E\"\n",
        " print(my_string)\n",
        "\n",
        " my_string = my_string.replace(\" che\",\"\")\n",
        " print(my_string)\n",
        "\n",
        " #Which position to find \"E\"\n",
        " print(my_string.find('E'))\n",
        "\n",
        " #output the string in a position\n",
        " print(my_string[74])\n",
        "\n"
      ],
      "execution_count": 0,
      "outputs": [
        {
          "output_type": "stream",
          "text": [
            "Oggi è una stupenda giornata per studiare il natural language processing. E c'è Giuseppe è davvero bravo. Peccato è antipatico\n",
            "Oggi è una stupenda giornata per studiare il natural language processing. E c'è Giuseppe è davvero bravo. Peccato è antipatico\n",
            "74\n",
            "E\n"
          ],
          "name": "stdout"
        }
      ]
    },
    {
      "cell_type": "code",
      "metadata": {
        "id": "LMz1kI4EdXpE",
        "colab_type": "code",
        "outputId": "7a8adaf1-9484-4b69-e559-7693f30ee652",
        "colab": {
          "base_uri": "https://localhost:8080/",
          "height": 69
        }
      },
      "source": [
        "# define a new start for the string ( start index)\n",
        "start_index = my_string.find('E')\n",
        "my_substring = my_string[start_index:]\n",
        "print(my_substring)\n",
        "\n",
        "# end index \n",
        "end_index = my_substring.find(\".\")\n",
        "my_substring = my_substring[:end_index]\n",
        "print(my_substring)\n",
        "\n",
        "#if a specific string is not present in the text\n",
        "\n",
        "my_string.find(\"pippo\")\n",
        "\n"
      ],
      "execution_count": 0,
      "outputs": [
        {
          "output_type": "stream",
          "text": [
            "E c'è Giuseppe è davvero bravo. Peccato è antipatico\n",
            "E c'è Giuseppe è davvero bravo\n"
          ],
          "name": "stdout"
        },
        {
          "output_type": "execute_result",
          "data": {
            "text/plain": [
              "-1"
            ]
          },
          "metadata": {
            "tags": []
          },
          "execution_count": 39
        }
      ]
    },
    {
      "cell_type": "code",
      "metadata": {
        "id": "C89BYTV4gjBg",
        "colab_type": "code",
        "outputId": "f238fcbd-e882-412e-c212-c5ab3bac5af8",
        "colab": {
          "base_uri": "https://localhost:8080/",
          "height": 52
        }
      },
      "source": [
        "my_string = \"Occhio per occhio dente per dente\"\n",
        "print(my_string.find(\"dente\"))\n",
        "print(my_string.rfind(\"dente\")) #find position from right"
      ],
      "execution_count": 0,
      "outputs": [
        {
          "output_type": "stream",
          "text": [
            "18\n",
            "28\n"
          ],
          "name": "stdout"
        }
      ]
    },
    {
      "cell_type": "code",
      "metadata": {
        "id": "tuePZDHkm4wV",
        "colab_type": "code",
        "outputId": "d96eb7f7-697b-4de8-f0d9-e467d0defa2e",
        "colab": {
          "base_uri": "https://localhost:8080/",
          "height": 69
        }
      },
      "source": [
        "my_string = \"   Questo è un test   \"\n",
        "\n",
        "#removes left spaces\n",
        "print(my_string.lstrip())\n",
        "\n",
        "\n",
        "#removes right spaces\n",
        "print(my_string.rstrip())\n",
        "\n",
        "my_str = my_string.strip()   #modifies the variable\n",
        "print(my_str)"
      ],
      "execution_count": 0,
      "outputs": [
        {
          "output_type": "stream",
          "text": [
            "Questo è un test   \n",
            "   Questo è un test\n",
            "Questo è un test\n"
          ],
          "name": "stdout"
        }
      ]
    },
    {
      "cell_type": "code",
      "metadata": {
        "id": "SH9hnt4donjp",
        "colab_type": "code",
        "colab": {}
      },
      "source": [
        ""
      ],
      "execution_count": 0,
      "outputs": []
    }
  ]
}